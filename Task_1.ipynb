{
  "nbformat": 4,
  "nbformat_minor": 0,
  "metadata": {
    "colab": {
      "name": "Task_1.ipynb",
      "version": "0.3.2",
      "provenance": []
    },
    "language_info": {
      "codemirror_mode": {
        "name": "ipython",
        "version": 3
      },
      "file_extension": ".py",
      "mimetype": "text/x-python",
      "name": "python",
      "nbconvert_exporter": "python",
      "pygments_lexer": "ipython3",
      "version": "3.5.2"
    },
    "kernelspec": {
      "display_name": "Python 3",
      "language": "python",
      "name": "python3"
    }
  },
  "cells": [
    {
      "cell_type": "markdown",
      "metadata": {
        "id": "KefHzUj80cXt",
        "colab_type": "text"
      },
      "source": [
        "# Basic Python Solution\n",
        "\n",
        "## Introduction\n",
        "This solution was solved using the vectorization library; Numpy. An alternative strategy would be to iterate through the initialized list using a for loop, speifying a condition that collects all the prime numbers and then iterating through the pruned list to gather the target number.\n",
        "\n",
        "Using the vectorized computing a condition can be 'broadcasted' throughout the vectorized list, and the result indexes can be returned by the method."
      ]
    },
    {
      "cell_type": "markdown",
      "metadata": {
        "id": "725xl-WT1pxq",
        "colab_type": "text"
      },
      "source": [
        "we first begin by importing the library"
      ]
    },
    {
      "cell_type": "code",
      "metadata": {
        "id": "ZZkcFLw10UWK",
        "colab_type": "code",
        "colab": {}
      },
      "source": [
        "import numpy as np"
      ],
      "execution_count": 0,
      "outputs": []
    },
    {
      "cell_type": "markdown",
      "metadata": {
        "id": "OQ8yWvex0UWw",
        "colab_type": "text"
      },
      "source": [
        "Then we define the method that will vectorize the list passed to the method as an argument. An alternative message will return if the list doesn't cotain a the target value."
      ]
    },
    {
      "cell_type": "code",
      "metadata": {
        "id": "JDfjj23Y0UW6",
        "colab_type": "code",
        "colab": {}
      },
      "source": [
        "def find_lucious(number_list):\n",
        "    numbers = np.array(number_list)\n",
        "    location = np.argwhere(numbers == 666)\n",
        "    #condition if there isn't any targets found in the list\n",
        "    if location.shape[0] == 0:\n",
        "      print(\"List is Holey\")\n",
        "    else:\n",
        "      print(\"The number is at positions: \", location)\n",
        "    "
      ],
      "execution_count": 0,
      "outputs": []
    },
    {
      "cell_type": "markdown",
      "metadata": {
        "id": "u2r1hRv42NjT",
        "colab_type": "text"
      },
      "source": [
        "now we'll apply the method with the that contains the target value at different locations within the list"
      ]
    },
    {
      "cell_type": "code",
      "metadata": {
        "id": "8dRoYLAU0UXK",
        "colab_type": "code",
        "colab": {
          "base_uri": "https://localhost:8080/",
          "height": 50
        },
        "outputId": "945b48ad-695d-496b-a67e-16f5beaad787"
      },
      "source": [
        "source_list = [1,2,12,156,2,158,263,666,89,47,56,28,4932,15,65,2,789,48,56,96,79,24,85,13,65,79,58,666,78,96]\n",
        "find_lucious(source_list)"
      ],
      "execution_count": 25,
      "outputs": [
        {
          "output_type": "stream",
          "text": [
            "The number is at positions:  [[ 7]\n",
            " [27]]\n"
          ],
          "name": "stdout"
        }
      ]
    },
    {
      "cell_type": "markdown",
      "metadata": {
        "id": "4AWU5H662e8c",
        "colab_type": "text"
      },
      "source": [
        "now we'll test the list with a random list generated of 100 valus"
      ]
    },
    {
      "cell_type": "code",
      "metadata": {
        "id": "3fcRkOCW0UX8",
        "colab_type": "code",
        "colab": {
          "base_uri": "https://localhost:8080/",
          "height": 82
        },
        "outputId": "ffd23654-808c-4311-f7b3-51773ef9b243"
      },
      "source": [
        "random_list  = np.random.randint(low=600, high=700, size=50)\n",
        "random_list"
      ],
      "execution_count": 23,
      "outputs": [
        {
          "output_type": "execute_result",
          "data": {
            "text/plain": [
              "array([699, 694, 628, 657, 628, 671, 646, 611, 682, 614, 690, 688, 618,\n",
              "       637, 618, 698, 612, 604, 631, 693, 648, 607, 627, 621, 692, 662,\n",
              "       629, 648, 655, 677, 693, 682, 608, 672, 634, 656, 656, 698, 618,\n",
              "       632, 642, 605, 632, 677, 689, 675, 619, 673, 669, 693])"
            ]
          },
          "metadata": {
            "tags": []
          },
          "execution_count": 23
        }
      ]
    },
    {
      "cell_type": "code",
      "metadata": {
        "id": "VBD2DprY0UYW",
        "colab_type": "code",
        "colab": {
          "base_uri": "https://localhost:8080/",
          "height": 33
        },
        "outputId": "d34ff531-8cdc-48a0-9e3f-4e1f4cb57d5c"
      },
      "source": [
        "find_lucious(random_list)"
      ],
      "execution_count": 24,
      "outputs": [
        {
          "output_type": "stream",
          "text": [
            "List is Holey\n"
          ],
          "name": "stdout"
        }
      ]
    }
  ]
}