{
  "nbformat": 4,
  "nbformat_minor": 0,
  "metadata": {
    "colab": {
      "name": "Task_3.ipynb",
      "version": "0.3.2",
      "provenance": [],
      "collapsed_sections": [],
      "toc_visible": true
    },
    "kernelspec": {
      "name": "python3",
      "display_name": "Python 3"
    },
    "accelerator": "GPU"
  },
  "cells": [
    {
      "cell_type": "code",
      "metadata": {
        "id": "d2R04c4jZ1uU",
        "colab_type": "code",
        "colab": {}
      },
      "source": [
        "#incase the the dataset has to be loaded and unzipped...again...\n",
        "import zipfile\n",
        "zip_ref = zipfile.ZipFile('LEGO brick images.zip', 'r')\n",
        "zip_ref.extractall()\n",
        "zip_ref.close()"
      ],
      "execution_count": 0,
      "outputs": []
    },
    {
      "cell_type": "markdown",
      "metadata": {
        "id": "2XtYLgN87UQj",
        "colab_type": "text"
      },
      "source": [
        "# Solution, Lego Brick Classifier\n",
        "\n",
        "##Introdution\n",
        "\n",
        "In this note we'll implement a classifier on the [Lego Brick Images](https://www.kaggle.com/joosthazelzet/lego-brick-images) dataset. This dataset contains 6400 images of 16 different pieces of lego evenly distributed between the classes. The dataset contains both train and valdation data - I have het to find a difference between these two but i'll go on faith that they were somehow split for a reason...\n",
        "\n",
        "\n",
        "##Methodology\n",
        "\n",
        "Ideally the dataset would be split into training, cross-validation and test sets. The intermediate cross-validation phase would be used in to determine proposed classifiers and determne their parameters. I'm not sure why this was not done in some of the implimentations on the [kaggle kernel submissions](https://www.kaggle.com/joosthazelzet/lego-brick-images/kernels), but judging from the sophostication of the methods being suceessfully applied this practice may not be as necessary as I'd been taught it was - but I don't plan on abandoning that strategy anytime soon.\n",
        "\n",
        "We will leverage the experience of the kernel authors by applying their proposed method in our experiment. One of them was a ResNet50 and the other a Convolutional Neural Network with additional methods to identify the best parameters for it. Firstly we'll train these two hypothises on unaugmented images as the train data set. then we'll cross validate them on augmented images of half the 'valid' data set, and test the final proposed classifier on the other half of the valid dataset which has been augmented with different degrees of augmentation.\n",
        "\n",
        "\n",
        "\n"
      ]
    },
    {
      "cell_type": "code",
      "metadata": {
        "id": "wV2RZEoJ6ue6",
        "colab_type": "code",
        "colab": {}
      },
      "source": [
        "import numpy as np\n",
        "import pandas as pd \n",
        "from tensorflow.python.keras.applications import ResNet50\n",
        "from tensorflow.python.keras.models import Sequential\n",
        "from tensorflow.python.keras.layers import Dense, Flatten, GlobalAveragePooling2D\n",
        "from tensorflow.python.keras.applications.resnet50 import preprocess_input\n",
        "from tensorflow.python.keras.preprocessing.image import ImageDataGenerator\n"
      ],
      "execution_count": 0,
      "outputs": []
    },
    {
      "cell_type": "code",
      "metadata": {
        "id": "VGvENAYOxbzf",
        "colab_type": "code",
        "colab": {}
      },
      "source": [
        "train_path= 'LEGO brick images/train'\n",
        "valid_path='LEGO brick images/valid'\n",
        "test_path='LEGO brick images/test'"
      ],
      "execution_count": 0,
      "outputs": []
    },
    {
      "cell_type": "code",
      "metadata": {
        "id": "pBGT5zojxI8H",
        "colab_type": "code",
        "colab": {}
      },
      "source": [
        "num_classes = 16\n",
        "resnet_model = Sequential()\n",
        "resnet_model.add(ResNet50(include_top=False, pooling='avg'))\n",
        "resnet_model.add(Dense(num_classes, activation='softmax'))\n",
        "\n",
        "resnet_model.layers[0].trainable = False\n",
        "\n",
        "resnet_model.compile(optimizer='sgd', loss='categorical_crossentropy', metrics=['accuracy'])"
      ],
      "execution_count": 0,
      "outputs": []
    },
    {
      "cell_type": "code",
      "metadata": {
        "id": "vzYNALoxxy8E",
        "colab_type": "code",
        "colab": {}
      },
      "source": [
        "image_size = 224\n",
        "\n",
        "data_generator_with_aug = ImageDataGenerator(\n",
        "                                   horizontal_flip=True,\n",
        "                                   width_shift_range = 0.2,\n",
        "                                   height_shift_range = 0.2)\n",
        "data_generator_no_aug = ImageDataGenerator()"
      ],
      "execution_count": 0,
      "outputs": []
    },
    {
      "cell_type": "code",
      "metadata": {
        "id": "xBFJpFYJyGHm",
        "colab_type": "code",
        "colab": {
          "base_uri": "https://localhost:8080/",
          "height": 50
        },
        "outputId": "625995bc-53f3-4583-cc8d-010bca8ac795"
      },
      "source": [
        "train_generator = data_generator_no_aug.flow_from_directory(\n",
        "        train_path,\n",
        "        target_size=(image_size, image_size),\n",
        "        batch_size=24,\n",
        "        class_mode='categorical')\n",
        "\n",
        "validation_generator = data_generator_with_aug.flow_from_directory(valid_path,\n",
        "        target_size=(image_size, image_size),\n",
        "        batch_size=24,\n",
        "        class_mode='categorical')"
      ],
      "execution_count": 13,
      "outputs": [
        {
          "output_type": "stream",
          "text": [
            "Found 6379 images belonging to 16 classes.\n",
            "Found 3190 images belonging to 16 classes.\n"
          ],
          "name": "stdout"
        }
      ]
    },
    {
      "cell_type": "code",
      "metadata": {
        "id": "l3ymy_ru_ZaK",
        "colab_type": "code",
        "colab": {}
      },
      "source": [
        ""
      ],
      "execution_count": 0,
      "outputs": []
    },
    {
      "cell_type": "code",
      "metadata": {
        "id": "ZCXst86c5gXb",
        "colab_type": "code",
        "colab": {
          "base_uri": "https://localhost:8080/",
          "height": 1496
        },
        "outputId": "6f3d8301-b019-4567-93c7-a92ead43ddad"
      },
      "source": [
        "resnet_model.fit_generator(\n",
        "        train_generator,\n",
        "        steps_per_epoch=200,\n",
        "        epochs=30,\n",
        "        validation_data=validation_generator,\n",
        "        validation_steps=200)"
      ],
      "execution_count": 16,
      "outputs": [
        {
          "output_type": "stream",
          "text": [
            "Epoch 1/30\n",
            "133/133 [==============================] - 38s 286ms/step - loss: 0.4152 - acc: 0.8545\n",
            "266/266 [==============================] - 66s 247ms/step - loss: 0.2516 - acc: 0.9403 - val_loss: 0.4152 - val_acc: 0.8545\n",
            "Epoch 2/30\n",
            "133/133 [==============================] - 38s 289ms/step - loss: 0.4092 - acc: 0.8583\n",
            "266/266 [==============================] - 66s 247ms/step - loss: 0.2484 - acc: 0.9370 - val_loss: 0.4092 - val_acc: 0.8583\n",
            "Epoch 3/30\n",
            "133/133 [==============================] - 36s 273ms/step - loss: 0.4122 - acc: 0.8552\n",
            "266/266 [==============================] - 64s 239ms/step - loss: 0.2369 - acc: 0.9431 - val_loss: 0.4122 - val_acc: 0.8552\n",
            "Epoch 4/30\n",
            "133/133 [==============================] - 36s 273ms/step - loss: 0.3862 - acc: 0.8702\n",
            "266/266 [==============================] - 64s 241ms/step - loss: 0.2308 - acc: 0.9454 - val_loss: 0.3862 - val_acc: 0.8702\n",
            "Epoch 5/30\n",
            "133/133 [==============================] - 36s 274ms/step - loss: 0.3734 - acc: 0.8718\n",
            "266/266 [==============================] - 64s 240ms/step - loss: 0.2228 - acc: 0.9470 - val_loss: 0.3734 - val_acc: 0.8718\n",
            "Epoch 6/30\n",
            "133/133 [==============================] - 38s 284ms/step - loss: 0.3940 - acc: 0.8583\n",
            "266/266 [==============================] - 65s 246ms/step - loss: 0.2182 - acc: 0.9492 - val_loss: 0.3940 - val_acc: 0.8583\n",
            "Epoch 7/30\n",
            "133/133 [==============================] - 38s 285ms/step - loss: 0.3648 - acc: 0.8696\n",
            "266/266 [==============================] - 65s 245ms/step - loss: 0.2101 - acc: 0.9511 - val_loss: 0.3648 - val_acc: 0.8696\n",
            "Epoch 8/30\n",
            "133/133 [==============================] - 36s 274ms/step - loss: 0.3598 - acc: 0.8715\n",
            "266/266 [==============================] - 64s 239ms/step - loss: 0.2031 - acc: 0.9523 - val_loss: 0.3598 - val_acc: 0.8715\n",
            "Epoch 9/30\n",
            "133/133 [==============================] - 37s 275ms/step - loss: 0.3682 - acc: 0.8705\n",
            "266/266 [==============================] - 64s 241ms/step - loss: 0.2006 - acc: 0.9527 - val_loss: 0.3682 - val_acc: 0.8705\n",
            "Epoch 10/30\n",
            "133/133 [==============================] - 37s 280ms/step - loss: 0.3738 - acc: 0.8630\n",
            "266/266 [==============================] - 65s 243ms/step - loss: 0.1951 - acc: 0.9533 - val_loss: 0.3738 - val_acc: 0.8630\n",
            "Epoch 11/30\n",
            "133/133 [==============================] - 38s 286ms/step - loss: 0.3779 - acc: 0.8687\n",
            "266/266 [==============================] - 65s 246ms/step - loss: 0.1918 - acc: 0.9563 - val_loss: 0.3779 - val_acc: 0.8687\n",
            "Epoch 12/30\n",
            "133/133 [==============================] - 38s 285ms/step - loss: 0.3629 - acc: 0.8687\n",
            "266/266 [==============================] - 65s 245ms/step - loss: 0.1835 - acc: 0.9583 - val_loss: 0.3629 - val_acc: 0.8687\n",
            "Epoch 13/30\n",
            "133/133 [==============================] - 37s 275ms/step - loss: 0.3605 - acc: 0.8665\n",
            "266/266 [==============================] - 64s 240ms/step - loss: 0.1863 - acc: 0.9567 - val_loss: 0.3605 - val_acc: 0.8665\n",
            "Epoch 14/30\n",
            "133/133 [==============================] - 37s 275ms/step - loss: 0.3560 - acc: 0.8737\n",
            "266/266 [==============================] - 64s 241ms/step - loss: 0.1769 - acc: 0.9566 - val_loss: 0.3560 - val_acc: 0.8737\n",
            "Epoch 15/30\n",
            "133/133 [==============================] - 38s 286ms/step - loss: 0.3665 - acc: 0.8674\n",
            "266/266 [==============================] - 66s 246ms/step - loss: 0.1725 - acc: 0.9594 - val_loss: 0.3665 - val_acc: 0.8674\n",
            "Epoch 16/30\n",
            "133/133 [==============================] - 39s 290ms/step - loss: 0.3611 - acc: 0.8683\n",
            "266/266 [==============================] - 66s 247ms/step - loss: 0.1656 - acc: 0.9643 - val_loss: 0.3611 - val_acc: 0.8683\n",
            "Epoch 17/30\n",
            "133/133 [==============================] - 38s 284ms/step - loss: 0.3647 - acc: 0.8727\n",
            "266/266 [==============================] - 65s 245ms/step - loss: 0.1677 - acc: 0.9605 - val_loss: 0.3647 - val_acc: 0.8727\n",
            "Epoch 18/30\n",
            "133/133 [==============================] - 37s 276ms/step - loss: 0.3614 - acc: 0.8768\n",
            "266/266 [==============================] - 64s 241ms/step - loss: 0.1659 - acc: 0.9669 - val_loss: 0.3614 - val_acc: 0.8768\n",
            "Epoch 19/30\n",
            "133/133 [==============================] - 37s 275ms/step - loss: 0.3463 - acc: 0.8687\n",
            "266/266 [==============================] - 64s 240ms/step - loss: 0.1558 - acc: 0.9691 - val_loss: 0.3463 - val_acc: 0.8687\n",
            "Epoch 20/30\n",
            "133/133 [==============================] - 38s 285ms/step - loss: 0.3558 - acc: 0.8661\n",
            "266/266 [==============================] - 65s 246ms/step - loss: 0.1553 - acc: 0.9669 - val_loss: 0.3558 - val_acc: 0.8661\n",
            "Epoch 21/30\n",
            "133/133 [==============================] - 38s 287ms/step - loss: 0.3545 - acc: 0.8727\n",
            "266/266 [==============================] - 65s 246ms/step - loss: 0.1542 - acc: 0.9680 - val_loss: 0.3545 - val_acc: 0.8727\n",
            "Epoch 22/30\n",
            "133/133 [==============================] - 38s 285ms/step - loss: 0.3588 - acc: 0.8677\n",
            "266/266 [==============================] - 65s 244ms/step - loss: 0.1519 - acc: 0.9677 - val_loss: 0.3588 - val_acc: 0.8677\n",
            "Epoch 23/30\n",
            "133/133 [==============================] - 37s 278ms/step - loss: 0.3447 - acc: 0.8803\n",
            "266/266 [==============================] - 65s 243ms/step - loss: 0.1477 - acc: 0.9686 - val_loss: 0.3447 - val_acc: 0.8803\n",
            "Epoch 24/30\n",
            "133/133 [==============================] - 36s 273ms/step - loss: 0.3268 - acc: 0.8840\n",
            "266/266 [==============================] - 64s 241ms/step - loss: 0.1463 - acc: 0.9688 - val_loss: 0.3268 - val_acc: 0.8840\n",
            "Epoch 25/30\n",
            "133/133 [==============================] - 37s 275ms/step - loss: 0.3311 - acc: 0.8853\n",
            "266/266 [==============================] - 64s 242ms/step - loss: 0.1429 - acc: 0.9691 - val_loss: 0.3311 - val_acc: 0.8853\n",
            "Epoch 26/30\n",
            "133/133 [==============================] - 38s 283ms/step - loss: 0.3313 - acc: 0.8846\n",
            "266/266 [==============================] - 65s 245ms/step - loss: 0.1404 - acc: 0.9727 - val_loss: 0.3313 - val_acc: 0.8846\n",
            "Epoch 27/30\n",
            "133/133 [==============================] - 38s 283ms/step - loss: 0.3412 - acc: 0.8793\n",
            "266/266 [==============================] - 65s 244ms/step - loss: 0.1394 - acc: 0.9704 - val_loss: 0.3412 - val_acc: 0.8793\n",
            "Epoch 28/30\n",
            "133/133 [==============================] - 37s 279ms/step - loss: 0.3702 - acc: 0.8649\n",
            "266/266 [==============================] - 64s 242ms/step - loss: 0.1360 - acc: 0.9724 - val_loss: 0.3702 - val_acc: 0.8649\n",
            "Epoch 29/30\n",
            "133/133 [==============================] - 36s 273ms/step - loss: 0.3504 - acc: 0.8740\n",
            "266/266 [==============================] - 64s 240ms/step - loss: 0.1366 - acc: 0.9705 - val_loss: 0.3504 - val_acc: 0.8740\n",
            "Epoch 30/30\n",
            "133/133 [==============================] - 37s 280ms/step - loss: 0.3415 - acc: 0.8790\n",
            "266/266 [==============================] - 65s 244ms/step - loss: 0.1344 - acc: 0.9716 - val_loss: 0.3415 - val_acc: 0.8790\n"
          ],
          "name": "stdout"
        },
        {
          "output_type": "execute_result",
          "data": {
            "text/plain": [
              "<tensorflow.python.keras.callbacks.History at 0x7f03fd4a3240>"
            ]
          },
          "metadata": {
            "tags": []
          },
          "execution_count": 16
        }
      ]
    },
    {
      "cell_type": "code",
      "metadata": {
        "id": "5KgiPGw4CHi2",
        "colab_type": "code",
        "colab": {
          "base_uri": "https://localhost:8080/",
          "height": 86
        },
        "outputId": "13ec5fdc-0ec2-42ae-c7c8-8a6b4c8b347d"
      },
      "source": [
        "from keras.models import Sequential,Input,Model\n",
        "from keras.layers import Dense,Flatten,Dropout,Concatenate,GlobalAveragePooling2D,Lambda,ZeroPadding2D\n",
        "from keras.layers import SeparableConv2D,BatchNormalization,MaxPooling2D,Conv2D\n",
        "from keras.preprocessing.image import ImageDataGenerator\n",
        "from keras.optimizers import Adam,SGD\n",
        "from keras.utils.vis_utils import plot_model\n",
        "\n",
        "\n",
        "def ConvBlock(model, layers, filters):\n",
        "    for i in range(layers):\n",
        "        model.add(Conv2D(filters,(3,3),activation='selu'))\n",
        "        model.add(SeparableConv2D(filters, (3, 3), activation='selu'))\n",
        "        model.add(BatchNormalization())\n",
        "        model.add(MaxPooling2D((2, 2), strides=(2, 2)))\n",
        "    \n",
        "def FCN():\n",
        "    model = Sequential()\n",
        "    model.add(Lambda(lambda x: x, input_shape=(image_size, image_size, 3)))\n",
        "    ConvBlock(model, 1, 32)\n",
        "    ConvBlock(model, 1, 64)\n",
        "    ConvBlock(model, 1, 128)\n",
        "    ConvBlock(model, 1, 256)\n",
        "    model.add(Flatten())\n",
        "    model.add(Dense(1024,activation='selu'))\n",
        "    model.add(Dropout(0.5))\n",
        "    model.add(Dense(16,activation='softmax'))\n",
        "    return model\n",
        "\n",
        "CNN_model = FCN()"
      ],
      "execution_count": 24,
      "outputs": [
        {
          "output_type": "stream",
          "text": [
            "WARNING:tensorflow:From /usr/local/lib/python3.6/dist-packages/keras/backend/tensorflow_backend.py:3445: calling dropout (from tensorflow.python.ops.nn_ops) with keep_prob is deprecated and will be removed in a future version.\n",
            "Instructions for updating:\n",
            "Please use `rate` instead of `keep_prob`. Rate should be set to `rate = 1 - keep_prob`.\n"
          ],
          "name": "stdout"
        }
      ]
    },
    {
      "cell_type": "code",
      "metadata": {
        "id": "n_UXC4XJ4RHN",
        "colab_type": "code",
        "colab": {}
      },
      "source": [
        "\n",
        "\n",
        "#-------Callbacks-------------#\n",
        "best_model_weights = './CNN_base.model'\n",
        "checkpoint = ModelCheckpoint(\n",
        "    best_model_weights,\n",
        "    monitor='val_loss',\n",
        "    verbose=1,\n",
        "    save_best_only=True,\n",
        "    mode='min',\n",
        "    save_weights_only=False,\n",
        "    period=1\n",
        ")\n",
        "earlystop = EarlyStopping(\n",
        "    monitor='val_loss',\n",
        "    min_delta=0.001,\n",
        "    patience=10,\n",
        "    verbose=1,\n",
        "    mode='auto'\n",
        ")\n",
        "tensorboard = TensorBoard(\n",
        "    log_dir = './CNN_logs',\n",
        "    histogram_freq=0,\n",
        "    batch_size=16,\n",
        "    write_graph=True,\n",
        "    write_grads=True,\n",
        "    write_images=False,\n",
        ")\n",
        "\n",
        "csvlogger = CSVLogger(\n",
        "    filename= \"CNN_training_csv.log\",\n",
        "    separator = \",\",\n",
        "    append = False\n",
        ")\n",
        "\n",
        "reduce = ReduceLROnPlateau(\n",
        "    monitor='val_loss',\n",
        "    factor=0.5,\n",
        "    patience=40,\n",
        "    verbose=1, \n",
        "    mode='auto',\n",
        "    cooldown=1 \n",
        ")\n",
        "\n",
        "callbacks = [checkpoint,tensorboard,csvlogger,reduce]"
      ],
      "execution_count": 0,
      "outputs": []
    },
    {
      "cell_type": "code",
      "metadata": {
        "id": "SiEVm6baCUcf",
        "colab_type": "code",
        "colab": {
          "base_uri": "https://localhost:8080/",
          "height": 1317
        },
        "outputId": "99ac6df7-f783-49a6-b760-3f54964f9a6b"
      },
      "source": [
        "opt = SGD(lr=1e-4,momentum=0.99)\n",
        "opt1 = Adam(lr=2e-4)\n",
        "\n",
        "CNN_model.compile(\n",
        "    loss='binary_crossentropy',\n",
        "    optimizer=opt,\n",
        "    metrics=['accuracy']\n",
        ")\n",
        "    \n",
        "CNN_history = CNN_model.fit_generator(\n",
        "    train_generator, \n",
        "    steps_per_epoch  = 100, \n",
        "    validation_data  = validation_generator,\n",
        "    validation_steps = 100,\n",
        "    epochs = 20, \n",
        "    verbose = 1,\n",
        "    callbacks=callbacks\n",
        ")"
      ],
      "execution_count": 27,
      "outputs": [
        {
          "output_type": "stream",
          "text": [
            "Epoch 1/20\n",
            "100/100 [==============================] - 62s 618ms/step - loss: 0.2826 - acc: 0.9214 - val_loss: 0.2695 - val_acc: 0.9245\n",
            "\n",
            "Epoch 00001: val_loss improved from inf to 0.26953, saving model to ./CNN_base.model\n",
            "Epoch 2/20\n",
            "100/100 [==============================] - 58s 579ms/step - loss: 0.1691 - acc: 0.9431 - val_loss: 0.3016 - val_acc: 0.9175\n",
            "\n",
            "Epoch 00002: val_loss did not improve from 0.26953\n",
            "Epoch 3/20\n",
            "100/100 [==============================] - 59s 590ms/step - loss: 0.1454 - acc: 0.9496 - val_loss: 0.3221 - val_acc: 0.9153\n",
            "\n",
            "Epoch 00003: val_loss did not improve from 0.26953\n",
            "Epoch 4/20\n",
            "100/100 [==============================] - 60s 596ms/step - loss: 0.1165 - acc: 0.9598 - val_loss: 0.3750 - val_acc: 0.9107\n",
            "\n",
            "Epoch 00004: val_loss did not improve from 0.26953\n",
            "Epoch 5/20\n",
            "100/100 [==============================] - 59s 589ms/step - loss: 0.0993 - acc: 0.9632 - val_loss: 0.3846 - val_acc: 0.9117\n",
            "\n",
            "Epoch 00005: val_loss did not improve from 0.26953\n",
            "Epoch 6/20\n",
            "100/100 [==============================] - 60s 596ms/step - loss: 0.0886 - acc: 0.9682 - val_loss: 0.4048 - val_acc: 0.9104\n",
            "\n",
            "Epoch 00006: val_loss did not improve from 0.26953\n",
            "Epoch 7/20\n",
            "100/100 [==============================] - 59s 592ms/step - loss: 0.0763 - acc: 0.9720 - val_loss: 0.4459 - val_acc: 0.9094\n",
            "\n",
            "Epoch 00007: val_loss did not improve from 0.26953\n",
            "Epoch 8/20\n",
            "100/100 [==============================] - 59s 588ms/step - loss: 0.0723 - acc: 0.9734 - val_loss: 0.5198 - val_acc: 0.9049\n",
            "\n",
            "Epoch 00008: val_loss did not improve from 0.26953\n",
            "Epoch 9/20\n",
            "100/100 [==============================] - 58s 583ms/step - loss: 0.0636 - acc: 0.9766 - val_loss: 0.5166 - val_acc: 0.9061\n",
            "\n",
            "Epoch 00009: val_loss did not improve from 0.26953\n",
            "Epoch 10/20\n",
            "100/100 [==============================] - 58s 582ms/step - loss: 0.0619 - acc: 0.9771 - val_loss: 0.4853 - val_acc: 0.9085\n",
            "\n",
            "Epoch 00010: val_loss did not improve from 0.26953\n",
            "Epoch 11/20\n",
            "100/100 [==============================] - 60s 595ms/step - loss: 0.0595 - acc: 0.9785 - val_loss: 0.5285 - val_acc: 0.9040\n",
            "\n",
            "Epoch 00011: val_loss did not improve from 0.26953\n",
            "Epoch 12/20\n",
            "100/100 [==============================] - 59s 590ms/step - loss: 0.0496 - acc: 0.9820 - val_loss: 0.5297 - val_acc: 0.9060\n",
            "\n",
            "Epoch 00012: val_loss did not improve from 0.26953\n",
            "Epoch 13/20\n",
            "100/100 [==============================] - 58s 581ms/step - loss: 0.0479 - acc: 0.9814 - val_loss: 0.5776 - val_acc: 0.9034\n",
            "\n",
            "Epoch 00013: val_loss did not improve from 0.26953\n",
            "Epoch 14/20\n",
            "100/100 [==============================] - 58s 581ms/step - loss: 0.0430 - acc: 0.9838 - val_loss: 0.5227 - val_acc: 0.9040\n",
            "\n",
            "Epoch 00014: val_loss did not improve from 0.26953\n",
            "Epoch 15/20\n",
            "100/100 [==============================] - 60s 595ms/step - loss: 0.0422 - acc: 0.9830 - val_loss: 0.5635 - val_acc: 0.9040\n",
            "\n",
            "Epoch 00015: val_loss did not improve from 0.26953\n",
            "Epoch 16/20\n",
            "100/100 [==============================] - 58s 581ms/step - loss: 0.0396 - acc: 0.9855 - val_loss: 0.5461 - val_acc: 0.9046\n",
            "\n",
            "Epoch 00016: val_loss did not improve from 0.26953\n",
            "Epoch 17/20\n",
            "100/100 [==============================] - 59s 592ms/step - loss: 0.0368 - acc: 0.9863 - val_loss: 0.5352 - val_acc: 0.9035\n",
            "\n",
            "Epoch 00017: val_loss did not improve from 0.26953\n",
            "Epoch 18/20\n",
            "100/100 [==============================] - 59s 590ms/step - loss: 0.0358 - acc: 0.9874 - val_loss: 0.5438 - val_acc: 0.9046\n",
            "\n",
            "Epoch 00018: val_loss did not improve from 0.26953\n",
            "Epoch 19/20\n",
            "100/100 [==============================] - 59s 591ms/step - loss: 0.0399 - acc: 0.9845 - val_loss: 0.5763 - val_acc: 0.9029\n",
            "\n",
            "Epoch 00019: val_loss did not improve from 0.26953\n",
            "Epoch 20/20\n",
            "100/100 [==============================] - 58s 582ms/step - loss: 0.0326 - acc: 0.9867 - val_loss: 0.5834 - val_acc: 0.9043\n",
            "\n",
            "Epoch 00020: val_loss did not improve from 0.26953\n"
          ],
          "name": "stdout"
        }
      ]
    },
    {
      "cell_type": "markdown",
      "metadata": {
        "id": "L9GXnFLE2DEi",
        "colab_type": "text"
      },
      "source": [
        "from our fast implimentation the results indicate that the CNN impllimentaion has the better accuracy on our validation stage. We will now apply it to our testing data, after training it with our validation set as well."
      ]
    },
    {
      "cell_type": "code",
      "metadata": {
        "id": "Iih75pxEAu89",
        "colab_type": "code",
        "colab": {
          "base_uri": "https://localhost:8080/",
          "height": 1333
        },
        "outputId": "29ea4367-8f17-4323-9aca-510ea43da609"
      },
      "source": [
        "\n",
        "  \n",
        "augs_gen = ImageDataGenerator(\n",
        "    rescale=1./255,\n",
        "    shear_range=0.2,  \n",
        "    zoom_range=0.2,        \n",
        "    horizontal_flip=True,validation_split=0.2) \n",
        "\n",
        "test_gen = augs_gen.flow_from_directory(\n",
        "    test_path,\n",
        "    target_size=(image_size,image_size),\n",
        "    batch_size=24,\n",
        "    class_mode='categorical',\n",
        "    shuffle=False\n",
        ")\n",
        "\n",
        "CNN_model.load_weights(best_model_weights)\n",
        "\n",
        "CNN_test_history = CNN_model.fit_generator(\n",
        "    validation_generator, \n",
        "    steps_per_epoch  = 100, \n",
        "    validation_data  = test_gen,\n",
        "    validation_steps = 100,\n",
        "    epochs = 20, \n",
        "    verbose = 1,\n",
        "    callbacks=callbacks\n",
        ")"
      ],
      "execution_count": 48,
      "outputs": [
        {
          "output_type": "stream",
          "text": [
            "Found 3190 images belonging to 16 classes.\n",
            "Epoch 1/20\n",
            "100/100 [==============================] - 62s 617ms/step - loss: 0.1890 - acc: 0.9361 - val_loss: 1.1131 - val_acc: 0.8961\n",
            "\n",
            "Epoch 00001: val_loss did not improve from 0.53592\n",
            "Epoch 2/20\n",
            "100/100 [==============================] - 58s 580ms/step - loss: 0.1807 - acc: 0.9368 - val_loss: 0.9899 - val_acc: 0.8966\n",
            "\n",
            "Epoch 00002: val_loss did not improve from 0.53592\n",
            "Epoch 3/20\n",
            "100/100 [==============================] - 58s 582ms/step - loss: 0.1810 - acc: 0.9381 - val_loss: 0.8192 - val_acc: 0.8990\n",
            "\n",
            "Epoch 00003: val_loss did not improve from 0.53592\n",
            "Epoch 4/20\n",
            "100/100 [==============================] - 59s 592ms/step - loss: 0.1766 - acc: 0.9381 - val_loss: 0.6903 - val_acc: 0.8974\n",
            "\n",
            "Epoch 00004: val_loss did not improve from 0.53592\n",
            "Epoch 5/20\n",
            "100/100 [==============================] - 59s 591ms/step - loss: 0.1798 - acc: 0.9370 - val_loss: 0.7556 - val_acc: 0.9092\n",
            "\n",
            "Epoch 00005: val_loss did not improve from 0.53592\n",
            "Epoch 6/20\n",
            "100/100 [==============================] - 58s 579ms/step - loss: 0.1719 - acc: 0.9382 - val_loss: 0.8501 - val_acc: 0.8915\n",
            "\n",
            "Epoch 00006: val_loss did not improve from 0.53592\n",
            "Epoch 7/20\n",
            "100/100 [==============================] - 58s 582ms/step - loss: 0.1742 - acc: 0.9394 - val_loss: 0.9795 - val_acc: 0.8994\n",
            "\n",
            "Epoch 00007: val_loss did not improve from 0.53592\n",
            "Epoch 8/20\n",
            "100/100 [==============================] - 59s 591ms/step - loss: 0.1733 - acc: 0.9391 - val_loss: 0.7371 - val_acc: 0.9029\n",
            "\n",
            "Epoch 00008: val_loss did not improve from 0.53592\n",
            "Epoch 9/20\n",
            "100/100 [==============================] - 58s 578ms/step - loss: 0.1715 - acc: 0.9392 - val_loss: 0.7065 - val_acc: 0.9075\n",
            "\n",
            "Epoch 00009: val_loss did not improve from 0.53592\n",
            "Epoch 10/20\n",
            "100/100 [==============================] - 59s 588ms/step - loss: 0.1647 - acc: 0.9410 - val_loss: 1.0518 - val_acc: 0.8963\n",
            "\n",
            "Epoch 00010: val_loss did not improve from 0.53592\n",
            "Epoch 11/20\n",
            "100/100 [==============================] - 58s 580ms/step - loss: 0.1655 - acc: 0.9416 - val_loss: 0.7651 - val_acc: 0.9047\n",
            "\n",
            "Epoch 00011: val_loss did not improve from 0.53592\n",
            "Epoch 12/20\n",
            "100/100 [==============================] - 59s 591ms/step - loss: 0.1560 - acc: 0.9436 - val_loss: 0.7477 - val_acc: 0.8989\n",
            "\n",
            "Epoch 00012: val_loss did not improve from 0.53592\n",
            "Epoch 13/20\n",
            "100/100 [==============================] - 58s 579ms/step - loss: 0.1573 - acc: 0.9428 - val_loss: 1.0532 - val_acc: 0.9005\n",
            "\n",
            "Epoch 00013: val_loss did not improve from 0.53592\n",
            "Epoch 14/20\n",
            "100/100 [==============================] - 59s 591ms/step - loss: 0.1553 - acc: 0.9430 - val_loss: 1.0134 - val_acc: 0.8894\n",
            "\n",
            "Epoch 00014: val_loss did not improve from 0.53592\n",
            "Epoch 15/20\n",
            "100/100 [==============================] - 60s 604ms/step - loss: 0.1539 - acc: 0.9434 - val_loss: 0.7392 - val_acc: 0.9027\n",
            "\n",
            "Epoch 00015: val_loss did not improve from 0.53592\n",
            "Epoch 16/20\n",
            "100/100 [==============================] - 59s 585ms/step - loss: 0.1567 - acc: 0.9424 - val_loss: 0.9817 - val_acc: 0.8971\n",
            "\n",
            "Epoch 00016: val_loss did not improve from 0.53592\n",
            "Epoch 17/20\n",
            "100/100 [==============================] - 58s 578ms/step - loss: 0.1515 - acc: 0.9443 - val_loss: 1.4496 - val_acc: 0.8874\n",
            "\n",
            "Epoch 00017: val_loss did not improve from 0.53592\n",
            "Epoch 18/20\n",
            "100/100 [==============================] - 59s 586ms/step - loss: 0.1484 - acc: 0.9457 - val_loss: 0.9833 - val_acc: 0.9014\n",
            "\n",
            "Epoch 00018: val_loss did not improve from 0.53592\n",
            "Epoch 19/20\n",
            "100/100 [==============================] - 60s 604ms/step - loss: 0.1493 - acc: 0.9436 - val_loss: 0.7365 - val_acc: 0.9007\n",
            "\n",
            "Epoch 00019: val_loss did not improve from 0.53592\n",
            "Epoch 20/20\n",
            "100/100 [==============================] - 59s 587ms/step - loss: 0.1533 - acc: 0.9422 - val_loss: 0.8863 - val_acc: 0.8958\n",
            "\n",
            "Epoch 00020: val_loss did not improve from 0.53592\n"
          ],
          "name": "stdout"
        }
      ]
    },
    {
      "cell_type": "code",
      "metadata": {
        "id": "OOmrXdwA7RMO",
        "colab_type": "code",
        "colab": {
          "base_uri": "https://localhost:8080/",
          "height": 336
        },
        "outputId": "7e0e30e9-1208-4b51-d38b-c37e58ca3548"
      },
      "source": [
        "show_final_history(CNN_history)\n"
      ],
      "execution_count": 50,
      "outputs": [
        {
          "output_type": "display_data",
          "data": {
            "image/png": "[encoded data removed]",
            "text/plain": [
              "<Figure size 1080x360 with 2 Axes>"
            ]
          },
          "metadata": {
            "tags": []
          }
        }
      ]
    },
    {
      "cell_type": "markdown",
      "metadata": {
        "id": "sHtwnCn68O9m",
        "colab_type": "text"
      },
      "source": [
        "Something appears to have gone wrong in my implimentation. These graphs are supposed ot be slightly congruents otward each other. the blue line is what we expet: the accuracy and los steadily decrease with each iteration. It seems my augmentaion of the testing and validation data was too much of an augmentaion to successfully apply these models to the data and establish some type of out-of-sample accuracy."
      ]
    },
    {
      "cell_type": "code",
      "metadata": {
        "id": "u4DymufZA2_J",
        "colab_type": "code",
        "colab": {}
      },
      "source": [
        ""
      ],
      "execution_count": 0,
      "outputs": []
    }
  ]
}