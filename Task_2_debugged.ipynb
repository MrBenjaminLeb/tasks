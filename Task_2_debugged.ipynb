{
  "nbformat": 4,
  "nbformat_minor": 0,
  "metadata": {
    "colab": {
      "name": "Task_2_debugged.ipynb",
      "version": "0.3.2",
      "provenance": [],
      "collapsed_sections": []
    },
    "language_info": {
      "codemirror_mode": {
        "name": "ipython",
        "version": 3
      },
      "file_extension": ".py",
      "mimetype": "text/x-python",
      "name": "python",
      "nbconvert_exporter": "python",
      "pygments_lexer": "ipython3",
      "version": "3.5.2"
    },
    "kernelspec": {
      "display_name": "Python 3",
      "language": "python",
      "name": "python3"
    }
  },
  "cells": [
    {
      "cell_type": "markdown",
      "metadata": {
        "id": "g10Iz2ZuizwV",
        "colab_type": "text"
      },
      "source": [
        "# Solution to the Fast Fourier Transform\n",
        "\n",
        "## Introduction\n",
        "The Fourier transform is more commonl known for its applications in digital signal processing and image processing but essentially the fourier transform enables the transformation between a polynomial and sample representation of data. The ability to represent a polynomial in  both polynomial form:\n",
        "\n",
        "$$f(x) = a_{0}x_{0} + a_{1}x_{1}+ ...+a_{n}x_{n}$$\n",
        "$$A = <a_{0}, a_{1},...,a_{n}>$$\n",
        "$$X = <x_{0}, x_{1},...,x_{n}>$$\n",
        "\n",
        "and samples form:\n",
        "$$<(x,y)_{1}, (x,y)_{2}, ...,(x,y)_{n+1}$$\n",
        "\n",
        "has its advantages. As explored in the previous task of `basic python programming` vectorized sample data has computational advantages, expecially when certain operations  are done to them like multiplication. Polynomial expression has the advantage of faster evaluation operations.\n",
        "\n",
        "In order to represent a polynomial in its vectorized sample form, $n+1$ descrete points are required where $n$ represents the order of the polynomial. A polynomial can also be represented with its roots, but performing operations in this form is more computationally complex and difficult to conceptualize.\n",
        "\n",
        "| Operations | Polynomials (coefficients) | Roots | Vectors(samples) |\n",
        "|--------------------|:-------------------:|:----------:|-------------:|\n",
        "|Evaluation|$O(n)$| $O(n)$| $O(n^{2})$|\n",
        "|Addition|$O(n)$|$\\infty$|$O(n)$|\n",
        "|Multiplication|$O(n^{2})$|$O(n)$|$O(n)$|\n",
        "\n",
        "for some perspective: if a set contains $n=10^{9}$ samples $O(n^{2})$ operations, if each $n$ operation takes a nanosecond, would take 30 years to complete. If there was a way to convert the polynomial in $O(n\\log n)$ as to the vectorized representation, as the fast fourier transform claims to do, this same operation woud only take 30 seconds .\n",
        "\n"
      ]
    },
    {
      "cell_type": "markdown",
      "metadata": {
        "id": "xZVcZt6r4_4H",
        "colab_type": "text"
      },
      "source": [
        "##Methodology\n",
        "\n",
        "A possible strategy would be to merely evaluate $n+1$ points fom the polynomal resulting in a vector. This done naively would also result in $O(n^{2})$ operations, even after applying [Horner's method](https://en.wikipedia.org/wiki/Horner%27s_method).\n",
        "\n",
        "The Descrete Fourier Transform exploits the relationship between polynomial coefficients and these vectorized samples. By applying a forula to the vector of coefficients $A$ the out put of the computations would be the target vector $X$.\n",
        "\n",
        "$$x_{[k]} = \\sum_{n=1}^{N-1}a_{n}e^{\\frac{-2\\pi}{N}nk}, k=0, 1, ...,N-1$$\n",
        "\n",
        "Unrtunately this evaluation also amounts to $O(n^{2})$ expense. This lead to the development of the fast fourier transform. This implimentation exploits the relationship between numbers and their roots andreducing the coeffiient set to excecute the [divide and conquer algorithm](https://en.wikipedia.org/wiki/Divide_and_conquer_algorithm).  A set $W$ can be represented as a new set $W_{\\frac{1}{2}}$ thats half the size of $W$ if all its constituents are the roots of the original set.  \n",
        "\n",
        "The [fundimental theorem of algebra](https://en.wikipedia.org/wiki/Fundamental_theorem_of_algebra) explains that all polynomals have at least $p$ number of roots. This enables us to reduce our $W$ vector to $W_{\\frac{1}{2}}$ as long as each variable  $w$ can be represented by its root in the original set. The vector of polynomial coefficients can autonimously be devided into 2 lists of even and odd indicies of the original vector $A$, with half its size.\n",
        "\n",
        "$$A_{even} = \\sum_{K=0}^{\\frac{n}{2}-1}a_{2K}w_{\\frac{n}{2}}^{K}$$\n",
        "\n",
        "$$A_{odd} = \\sum_{K=0}^{\\frac{n}{2}}a_{2K+1}w_{\\frac{n}{2}}^K$$\n",
        "\n",
        "where $w=e^{\\frac{2\\pi i}{n}}$.\n",
        "These can then be combined to calculate the target valuer:\n",
        "\n",
        "\n",
        "$$x = A_{even}(w_{\\frac{n}{2]}^{2}) +x * A_{odd}(w_{\\frac{n}{2}}^{2})   $$\n",
        "\n",
        "we now have the building blocks to apply a recursive method to our devide and conquer strategy. It also indicates one condition the data has to have: the set of coefficients has to be a power of 2.\n",
        "\n",
        "Since we are dealing with the roots of unity, in order or the set to consecutively half with each iteration, we can apply the followig formula:\n",
        "\n",
        "$$ (w_{n}^{k+\\frac{n}{2}})^{2} = (w_{n}^{k})^{2} $$\n",
        "\n",
        "After each iteration we essentially calculate $w$ values that with parametes that can be used for more that one $a$, this enables us to compute the fourier transform recursively on halved lists, much like the spider diagram\n",
        "\n",
        "![alt text](https://naiadseye.files.wordpress.com/2013/10/butterfly-algorithm-diagram.jpg)"
      ]
    },
    {
      "cell_type": "markdown",
      "metadata": {
        "id": "j5h4sFhb1IXJ",
        "colab_type": "text"
      },
      "source": [
        "In this implimentation the a random list of values, representing polynomial coefficients. We will compute the Vandermande matrix, and compare our calculations to the matrix generated by the Numpy implimentation of the FFT"
      ]
    },
    {
      "cell_type": "code",
      "metadata": {
        "id": "dMfZ0OPTThi2",
        "colab_type": "code",
        "colab": {}
      },
      "source": [
        "import matplotlib.pyplot as plt\n",
        "import numpy as np\n",
        "import math"
      ],
      "execution_count": 0,
      "outputs": []
    },
    {
      "cell_type": "code",
      "metadata": {
        "id": "fzF4wvqfThjI",
        "colab_type": "code",
        "colab": {}
      },
      "source": [
        "import numpy as np\n",
        "def DFT(x):\n",
        "    x = np.asarray(x, dtype=float)\n",
        "    N = x.shape[0]\n",
        "    n = np.arange(N)\n",
        "    k = n.reshape((N, 1))\n",
        "    M = np.exp(-2j * np.pi * k * n / N)\n",
        "    return np.dot(M, x)"
      ],
      "execution_count": 0,
      "outputs": []
    },
    {
      "cell_type": "code",
      "metadata": {
        "id": "cTliGxxPThjy",
        "colab_type": "code",
        "colab": {}
      },
      "source": [
        "def FFT(x):\n",
        "    x = np.asarray(x, dtype=float)\n",
        "    N = x.shape[0]\n",
        "    \n",
        "    if N % 2 > 0:\n",
        "        raise ValueError(\"size of x must be a power of 2\")\n",
        "    elif N <= 2:  # this cutoff should be optimized\n",
        "        return DFT(x)\n",
        "    else:\n",
        "        X_even = FFT(x[::2])\n",
        "        X_odd = FFT(x[1::2])\n",
        "        factor = np.exp(-2j * np.pi * np.arange(N) / N)\n",
        "        return np.concatenate([X_even + factor[:N // 2] * X_odd,\n",
        "                               X_even + factor[N // 2:] * X_odd])"
      ],
      "execution_count": 0,
      "outputs": []
    },
    {
      "cell_type": "code",
      "metadata": {
        "id": "AC5E3eGEThkc",
        "colab_type": "code",
        "outputId": "44da17a6-51a1-4134-f8ef-206f7e28e6e8",
        "colab": {
          "base_uri": "https://localhost:8080/",
          "height": 33
        }
      },
      "source": [
        "x = np.random.random(1024)\n",
        "np.allclose(FFT(x), np.fft.fft(x))"
      ],
      "execution_count": 4,
      "outputs": [
        {
          "output_type": "execute_result",
          "data": {
            "text/plain": [
              "True"
            ]
          },
          "metadata": {
            "tags": []
          },
          "execution_count": 4
        }
      ]
    }
  ]
}